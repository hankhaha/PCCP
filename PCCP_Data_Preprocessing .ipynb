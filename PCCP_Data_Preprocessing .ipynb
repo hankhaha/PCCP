{
 "cells": [
  {
   "cell_type": "code",
   "execution_count": 14,
   "metadata": {
    "collapsed": true
   },
   "outputs": [],
   "source": [
    "# Import needed libraries\n",
    "import numpy as np # linear algebra \n",
    "import pandas as pd # data processing\n",
    "\n",
    "import seaborn as sns \n",
    "import matplotlib as plt \n",
    "import sklearn "
   ]
  },
  {
   "cell_type": "code",
   "execution_count": 15,
   "metadata": {},
   "outputs": [
    {
     "name": "stdout",
     "output_type": "stream",
     "text": [
      "<class 'pandas.core.frame.DataFrame'>\n",
      "RangeIndex: 22852 entries, 0 to 22851\n",
      "Data columns (total 10 columns):\n",
      "Diameter             22838 non-null object\n",
      "TotalWB              22839 non-null float64\n",
      "RepairReplacement    1188 non-null object\n",
      "AFO                  22453 non-null float64\n",
      "FEA_WBYield          20113 non-null float64\n",
      "Cover                22431 non-null object\n",
      "Pressure             22459 non-null float64\n",
      "Manufacturer         12549 non-null object\n",
      "WireClass            17844 non-null object\n",
      "CylGg                18280 non-null float64\n",
      "dtypes: float64(5), object(5)\n",
      "memory usage: 1.3+ MB\n"
     ]
    },
    {
     "data": {
      "text/plain": [
       "Diameter                14\n",
       "TotalWB                 13\n",
       "RepairReplacement    21664\n",
       "AFO                    399\n",
       "FEA_WBYield           2739\n",
       "Cover                  421\n",
       "Pressure               393\n",
       "Manufacturer         10303\n",
       "WireClass             5008\n",
       "CylGg                 4572\n",
       "dtype: int64"
      ]
     },
     "execution_count": 15,
     "metadata": {},
     "output_type": "execute_result"
    }
   ],
   "source": [
    "# import Data\n",
    "pccpdf=pd.read_csv(\"C:/Users/chunweil/Documents/pccp/Copy of wssc_0801.csv\")\n",
    "# Specify all the features(including target and predictors)\n",
    "Important_features=['Diameter','TotalWB',\"RepairReplacement\",'AFO','FEA_WBYield',\"Cover\",\"Pressure\",\"Manufacturer\",\"WireClass\",\"CylGg\"]\n",
    "# Create dataset for model by subsetting the original datset \n",
    "pccpdf1=pccpdf[Important_features]\n",
    "\n",
    "# Check information of raw data\n",
    "pccpdf1.describe()\n",
    "pccpdf1.info()\n",
    "pccpdf1.head(5)\n",
    "pccpdf1.isnull().sum()"
   ]
  },
  {
   "cell_type": "code",
   "execution_count": 16,
   "metadata": {},
   "outputs": [
    {
     "name": "stderr",
     "output_type": "stream",
     "text": [
      "C:\\Users\\chunweil\\AppData\\Local\\Continuum\\Anaconda2\\lib\\site-packages\\ipykernel_launcher.py:5: SettingWithCopyWarning: \n",
      "A value is trying to be set on a copy of a slice from a DataFrame.\n",
      "Try using .loc[row_indexer,col_indexer] = value instead\n",
      "\n",
      "See the caveats in the documentation: http://pandas.pydata.org/pandas-docs/stable/indexing.html#indexing-view-versus-copy\n",
      "  \"\"\"\n"
     ]
    }
   ],
   "source": [
    "# Data Preprocessing\n",
    "# Fulter out the pipes with replaced and repairment record (we just want data with NULL value in RepairReplacement)\n",
    "# Check the unique value of RepairReplacement column\n",
    "pd.unique(pccpdf1.RepairReplacement)\n",
    "pccpdf1[\"RepairReplacement\"]=pccpdf1[\"RepairReplacement\"].replace(np.nan,\"NULL\")\n",
    "pccpdf1=pccpdf1.loc[pccpdf1[\"RepairReplacement\"]==\"NULL\",:]\n",
    "pccpdf1=pccpdf1.drop(\"RepairReplacement\",axis=1)"
   ]
  },
  {
   "cell_type": "code",
   "execution_count": 17,
   "metadata": {},
   "outputs": [
    {
     "data": {
      "text/plain": [
       "array([nan, 'I-III', 'II', 'IV'], dtype=object)"
      ]
     },
     "execution_count": 17,
     "metadata": {},
     "output_type": "execute_result"
    }
   ],
   "source": [
    "# Data cleaning and transformation \n",
    "# WireClass\n",
    "pccpdf1[\"WireClass\"]=pccpdf1[\"WireClass\"].replace('UNKNOWN','Unknown')\n",
    "pccpdf1[\"WireClass\"]=pccpdf1[\"WireClass\"].replace(\"III-1/2\",\"I-III\")\n",
    "pccpdf1[\"WireClass\"]=pccpdf1[\"WireClass\"].replace(\"III\",\"I-III\")\n",
    "pccpdf1[\"WireClass\"]=pccpdf1[\"WireClass\"].replace(\"I\",\"I-III\")\n",
    "pd.unique(pccpdf1[\"WireClass\"])"
   ]
  },
  {
   "cell_type": "code",
   "execution_count": 18,
   "metadata": {},
   "outputs": [
    {
     "data": {
      "text/plain": [
       "array([nan, 'Interpace-Lock Joint Pipe Co.', 'Price Brothers',\n",
       "       'International Pipe & Ceramics Corporation'], dtype=object)"
      ]
     },
     "execution_count": 18,
     "metadata": {},
     "output_type": "execute_result"
    }
   ],
   "source": [
    "# Manufacturer\n",
    "pccpdf1[\"Manufacturer\"]=pccpdf1[\"Manufacturer\"].replace('Interpace',\"Interpace-Lock Joint Pipe Co.\")\n",
    "pccpdf1[\"Manufacturer\"]=pccpdf1[\"Manufacturer\"].replace('INTERPACE',\"Interpace-Lock Joint Pipe Co.\")\n",
    "pccpdf1[\"Manufacturer\"]=pccpdf1[\"Manufacturer\"].replace('Lock Joint Pipe Co.',\"Interpace-Lock Joint Pipe Co.\")\n",
    "pccpdf1[\"Manufacturer\"]=pccpdf1[\"Manufacturer\"].replace('Lock Joint Pipe Products',\"Interpace-Lock Joint Pipe Co.\")\n",
    "pccpdf1[\"Manufacturer\"]=pccpdf1[\"Manufacturer\"].replace('PRICE BROTHERS',\"Price Brothers\")\n",
    "pd.unique(pccpdf1[\"Manufacturer\"])"
   ]
  },
  {
   "cell_type": "code",
   "execution_count": 19,
   "metadata": {
    "collapsed": true
   },
   "outputs": [],
   "source": [
    "# CylGg\n",
    "pccpdf1[\"CylGg\"]=pccpdf1[\"CylGg\"].replace(\"1/4 inch\",0.25)\n",
    "pccpdf1[\"CylGg\"]=pccpdf1[\"CylGg\"].replace(\"3/16 inch\",0.1875)\n",
    "pccpdf1[\"CylGg\"]=pccpdf1[\"CylGg\"].replace(10,0.102)\n",
    "pccpdf1[\"CylGg\"]=pccpdf1[\"CylGg\"].replace(12,0.080)\n",
    "pccpdf1[\"CylGg\"]=pccpdf1[\"CylGg\"].replace(14,0.064)\n",
    "pccpdf1[\"CylGg\"]=pccpdf1[\"CylGg\"].replace(16,0.051)\n",
    "pccpdf1[\"CylGg\"]=pccpdf1[\"CylGg\"].replace(17,0.045)\n",
    "pccpdf1[\"CylGg\"]=pccpdf1[\"CylGg\"].replace(18,0.040)\n",
    "pccpdf1[\"CylGg\"]=pccpdf1[\"CylGg\"].astype(np.float)"
   ]
  },
  {
   "cell_type": "code",
   "execution_count": 20,
   "metadata": {
    "collapsed": true
   },
   "outputs": [],
   "source": [
    "# Diameter\n",
    "pccpdf1[\"Diameter\"]=pccpdf1[\"Diameter\"].replace(\"@\",np.nan)\n",
    "pccpdf1[\"Diameter\"]=pccpdf1[\"Diameter\"].astype(np.float)"
   ]
  },
  {
   "cell_type": "code",
   "execution_count": 21,
   "metadata": {
    "collapsed": true
   },
   "outputs": [],
   "source": [
    "# Cover \n",
    "pccpdf1[\"Cover\"]=pccpdf1[\"Cover\"].replace(\"As-Built Illegible\",np.nan)\n",
    "pccpdf1[\"Cover\"]=pccpdf1[\"Cover\"].astype(np.float)"
   ]
  },
  {
   "cell_type": "code",
   "execution_count": 22,
   "metadata": {},
   "outputs": [
    {
     "name": "stdout",
     "output_type": "stream",
     "text": [
      "<class 'pandas.core.frame.DataFrame'>\n",
      "Int64Index: 21664 entries, 2 to 22850\n",
      "Data columns (total 9 columns):\n",
      "Diameter        21655 non-null float64\n",
      "TotalWB         21661 non-null float64\n",
      "AFO             21277 non-null float64\n",
      "FEA_WBYield     19731 non-null float64\n",
      "Cover           21272 non-null float64\n",
      "Pressure        21299 non-null float64\n",
      "Manufacturer    12362 non-null object\n",
      "WireClass       17463 non-null object\n",
      "CylGg           17898 non-null float64\n",
      "dtypes: float64(7), object(2)\n",
      "memory usage: 1.5+ MB\n"
     ]
    }
   ],
   "source": [
    "# Convert all values to float type except for \"Manufacturer\" and \"WireClass\"\n",
    "pccpdf1.info()"
   ]
  },
  {
   "cell_type": "code",
   "execution_count": 23,
   "metadata": {},
   "outputs": [
    {
     "data": {
      "text/plain": [
       "Diameter           9\n",
       "TotalWB            3\n",
       "AFO              387\n",
       "FEA_WBYield     1933\n",
       "Cover            392\n",
       "Pressure         365\n",
       "Manufacturer    9302\n",
       "WireClass       4201\n",
       "CylGg           3766\n",
       "dtype: int64"
      ]
     },
     "execution_count": 23,
     "metadata": {},
     "output_type": "execute_result"
    }
   ],
   "source": [
    "# Check missing data\n",
    "pccpdf1.isnull().sum()"
   ]
  },
  {
   "cell_type": "code",
   "execution_count": 46,
   "metadata": {},
   "outputs": [
    {
     "name": "stdout",
     "output_type": "stream",
     "text": [
      "<class 'pandas.core.frame.DataFrame'>\n",
      "Int64Index: 21664 entries, 2 to 22850\n",
      "Data columns (total 9 columns):\n",
      "Diameter        21664 non-null float64\n",
      "TotalWB         21664 non-null float64\n",
      "AFO             21664 non-null float64\n",
      "FEA_WBYield     21664 non-null float64\n",
      "Cover           21664 non-null float64\n",
      "Pressure        21664 non-null float64\n",
      "Manufacturer    12362 non-null object\n",
      "WireClass       17463 non-null object\n",
      "CylGg           21664 non-null float64\n",
      "dtypes: float64(7), object(2)\n",
      "memory usage: 1.5+ MB\n"
     ]
    }
   ],
   "source": [
    "# Filling NA value with the mean value \n",
    "pccpdf1=pccpdf1.fillna(pccpdf1.mean())\n",
    "pccpdf1.info()"
   ]
  },
  {
   "cell_type": "code",
   "execution_count": 24,
   "metadata": {
    "collapsed": true
   },
   "outputs": [],
   "source": [
    "# log transformation (Selecting variables with high skewed distribution)\n",
    "features=['Diameter','TotalWB','AFO','FEA_WBYield',\"Cover\",\"Pressure\",\"CylGg\"]\n",
    "x=range(0,7)\n",
    "for i in x:\n",
    "    pccpdf1[features[i]]=np.log1p(pccpdf1[features[i]])"
   ]
  },
  {
   "cell_type": "code",
   "execution_count": 25,
   "metadata": {
    "collapsed": true
   },
   "outputs": [],
   "source": [
    "# Dummy vaiables (Convert categorical variable into dummy)\n",
    "# One-Hot encoding on selected features \n",
    "pccpdf1=pd.get_dummies(pccpdf1,columns=['Manufacturer','WireClass'])"
   ]
  },
  {
   "cell_type": "code",
   "execution_count": 26,
   "metadata": {},
   "outputs": [
    {
     "data": {
      "text/html": [
       "<div>\n",
       "<style>\n",
       "    .dataframe thead tr:only-child th {\n",
       "        text-align: right;\n",
       "    }\n",
       "\n",
       "    .dataframe thead th {\n",
       "        text-align: left;\n",
       "    }\n",
       "\n",
       "    .dataframe tbody tr th {\n",
       "        vertical-align: top;\n",
       "    }\n",
       "</style>\n",
       "<table border=\"1\" class=\"dataframe\">\n",
       "  <thead>\n",
       "    <tr style=\"text-align: right;\">\n",
       "      <th></th>\n",
       "      <th>TotalWB</th>\n",
       "    </tr>\n",
       "  </thead>\n",
       "  <tbody>\n",
       "    <tr>\n",
       "      <th>TotalWB</th>\n",
       "      <td>1.000000</td>\n",
       "    </tr>\n",
       "    <tr>\n",
       "      <th>AFO</th>\n",
       "      <td>0.613057</td>\n",
       "    </tr>\n",
       "    <tr>\n",
       "      <th>Diameter</th>\n",
       "      <td>0.058423</td>\n",
       "    </tr>\n",
       "    <tr>\n",
       "      <th>FEA_WBYield</th>\n",
       "      <td>0.041394</td>\n",
       "    </tr>\n",
       "    <tr>\n",
       "      <th>WireClass_II</th>\n",
       "      <td>0.031383</td>\n",
       "    </tr>\n",
       "    <tr>\n",
       "      <th>Manufacturer_Interpace-Lock Joint Pipe Co.</th>\n",
       "      <td>0.030033</td>\n",
       "    </tr>\n",
       "    <tr>\n",
       "      <th>Manufacturer_International Pipe &amp; Ceramics Corporation</th>\n",
       "      <td>0.030024</td>\n",
       "    </tr>\n",
       "    <tr>\n",
       "      <th>WireClass_IV</th>\n",
       "      <td>0.004640</td>\n",
       "    </tr>\n",
       "    <tr>\n",
       "      <th>WireClass_I-III</th>\n",
       "      <td>-0.019900</td>\n",
       "    </tr>\n",
       "    <tr>\n",
       "      <th>CylGg</th>\n",
       "      <td>-0.024810</td>\n",
       "    </tr>\n",
       "    <tr>\n",
       "      <th>Cover</th>\n",
       "      <td>-0.025551</td>\n",
       "    </tr>\n",
       "    <tr>\n",
       "      <th>Manufacturer_Price Brothers</th>\n",
       "      <td>-0.030819</td>\n",
       "    </tr>\n",
       "    <tr>\n",
       "      <th>Pressure</th>\n",
       "      <td>-0.099427</td>\n",
       "    </tr>\n",
       "  </tbody>\n",
       "</table>\n",
       "</div>"
      ],
      "text/plain": [
       "                                                     TotalWB\n",
       "TotalWB                                             1.000000\n",
       "AFO                                                 0.613057\n",
       "Diameter                                            0.058423\n",
       "FEA_WBYield                                         0.041394\n",
       "WireClass_II                                        0.031383\n",
       "Manufacturer_Interpace-Lock Joint Pipe Co.          0.030033\n",
       "Manufacturer_International Pipe & Ceramics Corp...  0.030024\n",
       "WireClass_IV                                        0.004640\n",
       "WireClass_I-III                                    -0.019900\n",
       "CylGg                                              -0.024810\n",
       "Cover                                              -0.025551\n",
       "Manufacturer_Price Brothers                        -0.030819\n",
       "Pressure                                           -0.099427"
      ]
     },
     "execution_count": 26,
     "metadata": {},
     "output_type": "execute_result"
    }
   ],
   "source": [
    "# Check correlation with new dataset\n",
    "pccpdf1.head()\n",
    "a=pccpdf1.corr()\n",
    "pd.DataFrame(a)\n",
    "correlation_break = pd.DataFrame(a[\"TotalWB\"])\n",
    "correlation_break.sort_values(by = 'TotalWB', ascending = False)"
   ]
  }
 ],
 "metadata": {
  "kernelspec": {
   "display_name": "Python 2",
   "language": "python",
   "name": "python2"
  },
  "language_info": {
   "codemirror_mode": {
    "name": "ipython",
    "version": 2
   },
   "file_extension": ".py",
   "mimetype": "text/x-python",
   "name": "python",
   "nbconvert_exporter": "python",
   "pygments_lexer": "ipython2",
   "version": "2.7.13"
  }
 },
 "nbformat": 4,
 "nbformat_minor": 2
}
