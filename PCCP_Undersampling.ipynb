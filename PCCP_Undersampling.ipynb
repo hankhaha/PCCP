{
 "cells": [
  {
   "cell_type": "code",
   "execution_count": 1,
   "metadata": {
    "collapsed": true
   },
   "outputs": [],
   "source": [
    "import numpy as np # linear algebra \n",
    "import pandas as pd # data processing\n",
    "\n",
    "import seaborn as sns \n",
    "import matplotlib as plt \n",
    "import sklearn "
   ]
  },
  {
   "cell_type": "code",
   "execution_count": 6,
   "metadata": {
    "collapsed": true
   },
   "outputs": [],
   "source": [
    "# import Data\n",
    "DF_S=pd.read_csv(\"C:/Users/chunweil/AFO$$.csv\")\n",
    "X=DF_S.loc[DF_S.NEW!=0,:]\n",
    "Y=DF_S.loc[DF_S.NEW==0,:]"
   ]
  },
  {
   "cell_type": "code",
   "execution_count": 7,
   "metadata": {},
   "outputs": [
    {
     "name": "stdout",
     "output_type": "stream",
     "text": [
      "3096\n",
      "18568\n"
     ]
    }
   ],
   "source": [
    "print len(X)\n",
    "print len(Y)"
   ]
  },
  {
   "cell_type": "code",
   "execution_count": 8,
   "metadata": {
    "collapsed": true
   },
   "outputs": [],
   "source": [
    "# Number of data points in the minority class\n",
    "number_of_wirebreak=len(DF_S[DF_S.NEW!=0])\n",
    "wire_break_indices=np.array(DF_S[DF_S.NEW!=0].index)\n",
    "\n",
    "# picking the indices of the noraml pipe\n",
    "normal_indices=DF_S[DF_S.NEW==0].index"
   ]
  },
  {
   "cell_type": "code",
   "execution_count": 10,
   "metadata": {
    "collapsed": true
   },
   "outputs": [],
   "source": [
    "# out of the indices we picked, randomly select \"X\" number\n",
    "#(number_of_wirebreak)\n",
    "# we can adjust the class ratio by changing the number in the second argument\n",
    "random_normal_indices=np.random.choice(normal_indices,3*number_of_wirebreak,replace=True)\n",
    "random_normal_indices=np.array(random_normal_indices)\n",
    "\n",
    "# Appending the 2 indices\n",
    "under_sample_indices=np.concatenate([wire_break_indices,random_normal_indices])\n",
    "\n",
    "# Under-sample dataset\n",
    "under_sample_data=DF_S.iloc[under_sample_indices,:]\n",
    "under_sample_data.to_csv(\"under_sample_PCCP.csv\")"
   ]
  }
 ],
 "metadata": {
  "kernelspec": {
   "display_name": "Python 2",
   "language": "python",
   "name": "python2"
  },
  "language_info": {
   "codemirror_mode": {
    "name": "ipython",
    "version": 2
   },
   "file_extension": ".py",
   "mimetype": "text/x-python",
   "name": "python",
   "nbconvert_exporter": "python",
   "pygments_lexer": "ipython2",
   "version": "2.7.13"
  }
 },
 "nbformat": 4,
 "nbformat_minor": 2
}
